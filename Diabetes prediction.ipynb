{
 "cells": [
  {
   "cell_type": "code",
   "execution_count": 1,
   "metadata": {
    "id": "l9LjhQ0oLInE"
   },
   "outputs": [],
   "source": [
    "# Loading Libraries\n",
    "import pandas as pd                    # data analysis\n",
    "import numpy as np                     # scientific calculations\n",
    "import seaborn as sns                  # Statistical process\n",
    "import matplotlib.pyplot as plt        # plotting\n",
    "import statsmodels.api as sm"
   ]
  },
  {
   "cell_type": "code",
   "execution_count": 8,
   "metadata": {
    "id": "A0fRV2RQLInM"
   },
   "outputs": [],
   "source": [
    "# Importing data\n",
    "dp = pd.read_csv(r'C:\\Users\\patel d d\\Desktop\\Machine learning\\Personal project\\Healthcare-Diabetes.csv')"
   ]
  },
  {
   "cell_type": "code",
   "execution_count": 9,
   "metadata": {
    "id": "WCtNwHTbLInN"
   },
   "outputs": [
    {
     "name": "stdout",
     "output_type": "stream",
     "text": [
      "        Id  Pregnancies  Glucose  BloodPressure  SkinThickness  Insulin   BMI  \\\n",
      "0        1            6      148             72             35        0  33.6   \n",
      "1        2            1       85             66             29        0  26.6   \n",
      "2        3            8      183             64              0        0  23.3   \n",
      "3        4            1       89             66             23       94  28.1   \n",
      "4        5            0      137             40             35      168  43.1   \n",
      "...    ...          ...      ...            ...            ...      ...   ...   \n",
      "2763  2764            2       75             64             24       55  29.7   \n",
      "2764  2765            8      179             72             42      130  32.7   \n",
      "2765  2766            6       85             78              0        0  31.2   \n",
      "2766  2767            0      129            110             46      130  67.1   \n",
      "2767  2768            2       81             72             15       76  30.1   \n",
      "\n",
      "      DiabetesPedigreeFunction  Age  Outcome  \n",
      "0                        0.627   50        1  \n",
      "1                        0.351   31        0  \n",
      "2                        0.672   32        1  \n",
      "3                        0.167   21        0  \n",
      "4                        2.288   33        1  \n",
      "...                        ...  ...      ...  \n",
      "2763                     0.370   33        0  \n",
      "2764                     0.719   36        1  \n",
      "2765                     0.382   42        0  \n",
      "2766                     0.319   26        1  \n",
      "2767                     0.547   25        0  \n",
      "\n",
      "[2768 rows x 10 columns]\n"
     ]
    }
   ],
   "source": [
    "# Understanding data\n",
    "print(dp)"
   ]
  },
  {
   "cell_type": "code",
   "execution_count": 37,
   "metadata": {},
   "outputs": [
    {
     "data": {
      "text/plain": [
       "Index(['Id', 'Pregnancies', 'Glucose', 'BloodPressure', 'SkinThickness',\n",
       "       'Insulin', 'BMI', 'DiabetesPedigreeFunction', 'Age', 'Outcome'],\n",
       "      dtype='object')"
      ]
     },
     "execution_count": 37,
     "metadata": {},
     "output_type": "execute_result"
    }
   ],
   "source": [
    "dp.columns"
   ]
  },
  {
   "cell_type": "code",
   "execution_count": 10,
   "metadata": {
    "id": "2ewrPz_WLInP"
   },
   "outputs": [
    {
     "data": {
      "text/html": [
       "<div>\n",
       "<style scoped>\n",
       "    .dataframe tbody tr th:only-of-type {\n",
       "        vertical-align: middle;\n",
       "    }\n",
       "\n",
       "    .dataframe tbody tr th {\n",
       "        vertical-align: top;\n",
       "    }\n",
       "\n",
       "    .dataframe thead th {\n",
       "        text-align: right;\n",
       "    }\n",
       "</style>\n",
       "<table border=\"1\" class=\"dataframe\">\n",
       "  <thead>\n",
       "    <tr style=\"text-align: right;\">\n",
       "      <th></th>\n",
       "      <th>Id</th>\n",
       "      <th>Pregnancies</th>\n",
       "      <th>Glucose</th>\n",
       "      <th>BloodPressure</th>\n",
       "      <th>SkinThickness</th>\n",
       "      <th>Insulin</th>\n",
       "      <th>BMI</th>\n",
       "      <th>DiabetesPedigreeFunction</th>\n",
       "      <th>Age</th>\n",
       "      <th>Outcome</th>\n",
       "    </tr>\n",
       "  </thead>\n",
       "  <tbody>\n",
       "    <tr>\n",
       "      <th>0</th>\n",
       "      <td>1</td>\n",
       "      <td>6</td>\n",
       "      <td>148</td>\n",
       "      <td>72</td>\n",
       "      <td>35</td>\n",
       "      <td>0</td>\n",
       "      <td>33.6</td>\n",
       "      <td>0.627</td>\n",
       "      <td>50</td>\n",
       "      <td>1</td>\n",
       "    </tr>\n",
       "    <tr>\n",
       "      <th>1</th>\n",
       "      <td>2</td>\n",
       "      <td>1</td>\n",
       "      <td>85</td>\n",
       "      <td>66</td>\n",
       "      <td>29</td>\n",
       "      <td>0</td>\n",
       "      <td>26.6</td>\n",
       "      <td>0.351</td>\n",
       "      <td>31</td>\n",
       "      <td>0</td>\n",
       "    </tr>\n",
       "    <tr>\n",
       "      <th>2</th>\n",
       "      <td>3</td>\n",
       "      <td>8</td>\n",
       "      <td>183</td>\n",
       "      <td>64</td>\n",
       "      <td>0</td>\n",
       "      <td>0</td>\n",
       "      <td>23.3</td>\n",
       "      <td>0.672</td>\n",
       "      <td>32</td>\n",
       "      <td>1</td>\n",
       "    </tr>\n",
       "    <tr>\n",
       "      <th>3</th>\n",
       "      <td>4</td>\n",
       "      <td>1</td>\n",
       "      <td>89</td>\n",
       "      <td>66</td>\n",
       "      <td>23</td>\n",
       "      <td>94</td>\n",
       "      <td>28.1</td>\n",
       "      <td>0.167</td>\n",
       "      <td>21</td>\n",
       "      <td>0</td>\n",
       "    </tr>\n",
       "    <tr>\n",
       "      <th>4</th>\n",
       "      <td>5</td>\n",
       "      <td>0</td>\n",
       "      <td>137</td>\n",
       "      <td>40</td>\n",
       "      <td>35</td>\n",
       "      <td>168</td>\n",
       "      <td>43.1</td>\n",
       "      <td>2.288</td>\n",
       "      <td>33</td>\n",
       "      <td>1</td>\n",
       "    </tr>\n",
       "  </tbody>\n",
       "</table>\n",
       "</div>"
      ],
      "text/plain": [
       "   Id  Pregnancies  Glucose  BloodPressure  SkinThickness  Insulin   BMI  \\\n",
       "0   1            6      148             72             35        0  33.6   \n",
       "1   2            1       85             66             29        0  26.6   \n",
       "2   3            8      183             64              0        0  23.3   \n",
       "3   4            1       89             66             23       94  28.1   \n",
       "4   5            0      137             40             35      168  43.1   \n",
       "\n",
       "   DiabetesPedigreeFunction  Age  Outcome  \n",
       "0                     0.627   50        1  \n",
       "1                     0.351   31        0  \n",
       "2                     0.672   32        1  \n",
       "3                     0.167   21        0  \n",
       "4                     2.288   33        1  "
      ]
     },
     "execution_count": 10,
     "metadata": {},
     "output_type": "execute_result"
    }
   ],
   "source": [
    "# Understanding data\n",
    "dp.head()"
   ]
  },
  {
   "cell_type": "code",
   "execution_count": null,
   "metadata": {},
   "outputs": [],
   "source": []
  },
  {
   "cell_type": "code",
   "execution_count": 11,
   "metadata": {
    "id": "tMoMhpc0LInQ"
   },
   "outputs": [
    {
     "name": "stdout",
     "output_type": "stream",
     "text": [
      "Count of observations by dependent variable:\n",
      "Outcome\n",
      "0    1816\n",
      "1     952\n",
      "Name: count, dtype: int64\n"
     ]
    }
   ],
   "source": [
    "# Count the occurrences of each unique value in the dependent variable\n",
    "value_counts = dp['Outcome'].value_counts()\n",
    "\n",
    "# Print the counts\n",
    "print(\"Count of observations by dependent variable:\")\n",
    "print(value_counts)"
   ]
  },
  {
   "cell_type": "code",
   "execution_count": 13,
   "metadata": {
    "id": "2d0QyWTyLInQ"
   },
   "outputs": [
    {
     "name": "stdout",
     "output_type": "stream",
     "text": [
      "Id                          0\n",
      "Pregnancies                 0\n",
      "Glucose                     0\n",
      "BloodPressure               0\n",
      "SkinThickness               0\n",
      "Insulin                     0\n",
      "BMI                         0\n",
      "DiabetesPedigreeFunction    0\n",
      "Age                         0\n",
      "Outcome                     0\n",
      "dtype: int64\n"
     ]
    }
   ],
   "source": [
    "# Check for missing values and removing it\n",
    "\n",
    "print(dp.isnull().sum())\n",
    "\n",
    "dp.dropna(inplace=True)"
   ]
  },
  {
   "cell_type": "code",
   "execution_count": null,
   "metadata": {},
   "outputs": [],
   "source": []
  },
  {
   "cell_type": "code",
   "execution_count": 18,
   "metadata": {
    "id": "61RhyfYaLInR"
   },
   "outputs": [],
   "source": [
    "# Defining Independent and dependent variables\n",
    "x = dp.drop(['Id','Outcome','SkinThickness'],axis = 1)\n",
    "y = dp.Outcome"
   ]
  },
  {
   "cell_type": "code",
   "execution_count": 28,
   "metadata": {},
   "outputs": [],
   "source": [
    "from sklearn.preprocessing import StandardScaler\n",
    "\n",
    "scaler = StandardScaler()\n",
    "X_train = scaler.fit_transform(x)\n",
    "X_test = scaler.transform(x)"
   ]
  },
  {
   "cell_type": "code",
   "execution_count": 29,
   "metadata": {
    "id": "ZBinF_keLInS"
   },
   "outputs": [],
   "source": [
    "# Splitting data into train and test\n",
    "from sklearn.model_selection import train_test_split\n",
    "x_train, x_test, y_train, y_test = train_test_split(x, y, test_size=0.3,random_state=4)"
   ]
  },
  {
   "cell_type": "code",
   "execution_count": 30,
   "metadata": {
    "id": "Tcgm_aHALInT"
   },
   "outputs": [
    {
     "name": "stdout",
     "output_type": "stream",
     "text": [
      "Optimization terminated successfully.\n",
      "         Current function value: 0.475339\n",
      "         Iterations 6\n",
      "                           Logit Regression Results                           \n",
      "==============================================================================\n",
      "Dep. Variable:                Outcome   No. Observations:                 1937\n",
      "Model:                          Logit   Df Residuals:                     1929\n",
      "Method:                           MLE   Df Model:                            7\n",
      "Date:                Wed, 05 Mar 2025   Pseudo R-squ.:                  0.2647\n",
      "Time:                        23:17:09   Log-Likelihood:                -920.73\n",
      "converged:                       True   LL-Null:                       -1252.3\n",
      "Covariance Type:            nonrobust   LLR p-value:                6.295e-139\n",
      "============================================================================================\n",
      "                               coef    std err          z      P>|z|      [0.025      0.975]\n",
      "--------------------------------------------------------------------------------------------\n",
      "const                       -8.3198      0.448    -18.562      0.000      -9.198      -7.441\n",
      "Pregnancies                  0.1225      0.020      6.011      0.000       0.083       0.162\n",
      "Glucose                      0.0343      0.002     14.957      0.000       0.030       0.039\n",
      "BloodPressure               -0.0087      0.003     -2.658      0.008      -0.015      -0.002\n",
      "Insulin                     -0.0013      0.001     -2.214      0.027      -0.002      -0.000\n",
      "BMI                          0.0839      0.009      9.689      0.000       0.067       0.101\n",
      "DiabetesPedigreeFunction     1.0080      0.188      5.360      0.000       0.639       1.377\n",
      "Age                          0.0116      0.006      1.980      0.048       0.000       0.023\n",
      "============================================================================================\n"
     ]
    }
   ],
   "source": [
    "# Using statsmodels for detailed model summary\n",
    "\n",
    "x_train_sm = sm.add_constant(x_train)\n",
    "logit_model = sm.Logit(y_train, x_train_sm)\n",
    "result = logit_model.fit()\n",
    "\n",
    "# Summary of the logistic regression model\n",
    "print(result.summary())"
   ]
  },
  {
   "cell_type": "code",
   "execution_count": 31,
   "metadata": {
    "id": "AvDvQH1xLInY"
   },
   "outputs": [
    {
     "data": {
      "text/plain": [
       "965     0.118166\n",
       "1612    0.412014\n",
       "333     0.217355\n",
       "1022    0.310776\n",
       "802     0.441595\n",
       "          ...   \n",
       "125     0.462907\n",
       "362     0.317771\n",
       "756     0.496319\n",
       "2761    0.168465\n",
       "2667    0.591927\n",
       "Length: 831, dtype: float64"
      ]
     },
     "execution_count": 31,
     "metadata": {},
     "output_type": "execute_result"
    }
   ],
   "source": [
    "y_pred = result.predict(sm.add_constant(x_test))\n",
    "\n",
    "y_pred"
   ]
  },
  {
   "cell_type": "code",
   "execution_count": 32,
   "metadata": {
    "id": "3puttnQ5LInZ"
   },
   "outputs": [
    {
     "data": {
      "text/plain": [
       "965     0\n",
       "1612    0\n",
       "333     0\n",
       "1022    0\n",
       "802     0\n",
       "       ..\n",
       "125     0\n",
       "362     0\n",
       "756     0\n",
       "2761    0\n",
       "2667    1\n",
       "Length: 831, dtype: int64"
      ]
     },
     "execution_count": 32,
     "metadata": {},
     "output_type": "execute_result"
    }
   ],
   "source": [
    "y_pred_binary = (y_pred >= 0.5).astype(int)\n",
    "y_pred_binary"
   ]
  },
  {
   "cell_type": "code",
   "execution_count": 33,
   "metadata": {
    "id": "4nyKjxwfLInZ"
   },
   "outputs": [
    {
     "data": {
      "text/plain": [
       "array([[489,  65],\n",
       "       [123, 154]])"
      ]
     },
     "execution_count": 33,
     "metadata": {},
     "output_type": "execute_result"
    }
   ],
   "source": [
    "#  Confusion Matrix\n",
    "from sklearn.metrics import confusion_matrix\n",
    "confusion_matrix(y_test,y_pred_binary)"
   ]
  },
  {
   "cell_type": "markdown",
   "metadata": {
    "id": "q5evuAbsLIna"
   },
   "source": [
    "         Predicted\n",
    "          0    1\n",
    "Actual 0  TN   FP\n",
    "       1  FN   TP\n",
    "TN (True Negative): The number of true negative predictions (actual class 0, predicted class 0)\n",
    "FP (False Positive): The number of false positive predictions (actual class 0, predicted class 1)\n",
    "FN (False Negative): The number of false negative predictions (actual class 1, predicted class 0)\n",
    "TP (True Positive): The number of true positive predictions (actual class 1, predicted class 1)"
   ]
  },
  {
   "cell_type": "code",
   "execution_count": 34,
   "metadata": {
    "id": "4sgYWBNwLInb"
   },
   "outputs": [
    {
     "data": {
      "text/plain": [
       "0.7737665463297232"
      ]
     },
     "execution_count": 34,
     "metadata": {},
     "output_type": "execute_result"
    }
   ],
   "source": [
    "# Accuracy Score\n",
    "from sklearn.metrics import accuracy_score\n",
    "accuracy_score(y_test,y_pred_binary)"
   ]
  },
  {
   "cell_type": "code",
   "execution_count": 35,
   "metadata": {
    "id": "GTYkIIgiLInb"
   },
   "outputs": [
    {
     "name": "stdout",
     "output_type": "stream",
     "text": [
      "AUC: 0.83\n"
     ]
    },
    {
     "data": {
      "image/png": "[encoded data removed]",
      "text/plain": [
       "<Figure size 800x600 with 1 Axes>"
      ]
     },
     "metadata": {},
     "output_type": "display_data"
    }
   ],
   "source": [
    "# ROC Curve and AUC\n",
    "from sklearn.metrics import roc_curve, roc_auc_score\n",
    "#y_prob = logistic_regression.predict_proba(x_test)[:, 1]\n",
    "fpr, tpr, thresholds = roc_curve(y_test, y_pred)\n",
    "auc = roc_auc_score(y_test, y_pred)\n",
    "print(f'AUC: {auc:.2f}')\n",
    "\n",
    "plt.figure(figsize=(8, 6))\n",
    "plt.plot(fpr, tpr, label=f'ROC Curve (AUC = {auc:.2f})')\n",
    "plt.plot([0, 1], [0, 1], 'k--')\n",
    "plt.xlabel('False Positive Rate')\n",
    "plt.ylabel('True Positive Rate')\n",
    "plt.title('ROC Curve')\n",
    "plt.legend(loc='lower right')\n",
    "plt.show()"
   ]
  },
  {
   "cell_type": "markdown",
   "metadata": {
    "id": "79-oEj0sLInc"
   },
   "source": [
    "ROC Curve (Receiver Operating Characteristic Curve): This is a plot of the true positive rate (TPR) against the false positive rate (FPR) at various threshold settings. The ROC curve illustrates the diagnostic ability of a binary classifier system as its discrimination threshold is varied.\n",
    "\n",
    "AUC (Area Under the Curve): This metric summarizes the ROC curve into a single value representing the likelihood that the model will rank a randomly chosen positive instance higher than a randomly chosen negative one.\n",
    "\n",
    "AUC = 0.5: No discrimination (random guessing)\n",
    "0.5 < AUC < 0.7: Poor model\n",
    "0.7 ≤ AUC < 0.8: Fair model\n",
    "0.8 ≤ AUC < 0.9: Good model\n",
    "0.9 ≤ AUC < 1: Excellent model"
   ]
  },
  {
   "cell_type": "code",
   "execution_count": 40,
   "metadata": {
    "id": "vdeh24kvLInd"
   },
   "outputs": [
    {
     "name": "stdout",
     "output_type": "stream",
     "text": [
      "0    0.146133\n",
      "1    0.262123\n",
      "2    0.522635\n",
      "3    0.946003\n",
      "4    0.601058\n",
      "dtype: float64\n"
     ]
    },
    {
     "data": {
      "text/plain": [
       "0    0\n",
       "1    0\n",
       "2    1\n",
       "3    1\n",
       "4    1\n",
       "dtype: int64"
      ]
     },
     "execution_count": 40,
     "metadata": {},
     "output_type": "execute_result"
    }
   ],
   "source": [
    "# Prediction on new data\n",
    "\n",
    "New_patients={'Pregnancies':[3,3,2,5,1],\n",
    "            'Glucose':[55,62,80,165,110],\n",
    "            'BloodPressure':[28,44,60,85,100],\n",
    "            'Insulin':[88,175,230,846,543],\n",
    "             'BMI':[43.11,50.62,55.2,70.0,40.33], \n",
    "             'DiabetesPedigreeFunction':[0.627,0.7,1.22,0.254,2.654], \n",
    "             'Age':[35,38,32,50,28]}\n",
    "df2 = pd.DataFrame(New_patients,columns= [ 'Pregnancies', 'Glucose', 'BloodPressure',\n",
    "       'Insulin', 'BMI', 'DiabetesPedigreeFunction', 'Age'])\n",
    "\n",
    "# Add constant to the new data (df2)\n",
    "df2_sm = sm.add_constant(df2)\n",
    "\n",
    "# Make predictions on the new data\n",
    "y_pred_new = result.predict(df2_sm)\n",
    "\n",
    "# Display the predictions\n",
    "print(y_pred_new)\n",
    "\n",
    "y_pred_binary_new = (y_pred_new >= 0.5).astype(int)\n",
    "y_pred_binary_new"
   ]
  },
  {
   "cell_type": "code",
   "execution_count": 42,
   "metadata": {
    "id": "I3BApxLFLIne"
   },
   "outputs": [
    {
     "name": "stdout",
     "output_type": "stream",
     "text": [
      "Optimization terminated successfully.\n",
      "         Current function value: 0.430672\n",
      "         Iterations 7\n",
      "                           Logit Regression Results                           \n",
      "==============================================================================\n",
      "Dep. Variable:                Outcome   No. Observations:                 1937\n",
      "Model:                          Logit   Df Residuals:                     1915\n",
      "Method:                           MLE   Df Model:                           21\n",
      "Date:                Wed, 05 Mar 2025   Pseudo R-squ.:                  0.3338\n",
      "Time:                        23:49:51   Log-Likelihood:                -834.21\n",
      "converged:                       True   LL-Null:                       -1252.3\n",
      "Covariance Type:            nonrobust   LLR p-value:                1.985e-163\n",
      "========================================================================================================\n",
      "                                           coef    std err          z      P>|z|      [0.025      0.975]\n",
      "--------------------------------------------------------------------------------------------------------\n",
      "const                                    6.7631     23.420      0.289      0.773     -39.139      52.665\n",
      "Pregnancies                              0.3950      0.798      0.495      0.621      -1.169       1.958\n",
      "Glucose                                  0.4021      0.151      2.665      0.008       0.106       0.698\n",
      "BloodPressure                           -0.3709      0.310     -1.196      0.232      -0.978       0.237\n",
      "Insulin                                  0.0587      0.020      2.998      0.003       0.020       0.097\n",
      "BMI                                      2.1515      0.357      6.028      0.000       1.452       2.851\n",
      "DiabetesPedigreeFunction                18.9636     27.739      0.684      0.494     -35.404      73.331\n",
      "Age                                      2.6057      1.939      1.344      0.179      -1.194       6.405\n",
      "log_Pregnancies                         -0.6580      1.141     -0.577      0.564      -2.895       1.579\n",
      "interaction_Pregnancies                 -0.0831      0.222     -0.374      0.708      -0.518       0.352\n",
      "log_Glucose                             -3.2881      0.863     -3.808      0.000      -4.980      -1.596\n",
      "interaction_Glucose                     -0.0577      0.025     -2.352      0.019      -0.106      -0.010\n",
      "log_BloodPressure                        1.3443      1.211      1.110      0.267      -1.029       3.717\n",
      "interaction_BloodPressure                0.0657      0.056      1.183      0.237      -0.043       0.174\n",
      "log_Insulin                             -0.5091      0.154     -3.314      0.001      -0.810      -0.208\n",
      "interaction_Insulin                     -0.0087      0.003     -3.015      0.003      -0.014      -0.003\n",
      "log_BMI                                 -6.3408      1.027     -6.175      0.000      -8.353      -4.328\n",
      "interaction_BMI                         -0.4138      0.071     -5.810      0.000      -0.553      -0.274\n",
      "log_DiabetesPedigreeFunction           -17.5299     29.839     -0.587      0.557     -76.013      40.953\n",
      "interaction_DiabetesPedigreeFunction    -7.8836     10.521     -0.749      0.454     -28.505      12.738\n",
      "log_Age                                 -9.7736     13.535     -0.722      0.470     -36.303      16.755\n",
      "interaction_Age                         -0.5005      0.341     -1.468      0.142      -1.169       0.168\n",
      "========================================================================================================\n"
     ]
    }
   ],
   "source": [
    "# Checking Assumptions: Linearity\n",
    "# Create a copy of the training data\n",
    "x_train_trans = x_train.copy()\n",
    "\n",
    "# Add log-transformed terms for continuous predictors\n",
    "continuous_vars =[ 'Pregnancies', 'Glucose', 'BloodPressure',\n",
    "       'Insulin', 'BMI', 'DiabetesPedigreeFunction', 'Age'] # Replace with your actual column names\n",
    "for var in continuous_vars:\n",
    "    x_train_trans[f'log_{var}'] = np.log(x_train[var] + 1)  # Add 1 to avoid log(0)\n",
    "    x_train_trans[f'interaction_{var}'] = x_train[var] * x_train_trans[f'log_{var}']\n",
    "\n",
    "# Add constant column\n",
    "x_train_trans = sm.add_constant(x_train_trans)\n",
    "\n",
    "logit_model_interaction = sm.Logit(y_train, x_train_trans)\n",
    "result_interaction = logit_model_interaction.fit()\n",
    "\n",
    "# Print summary to check the significance of interaction terms\n",
    "print(result_interaction.summary())"
   ]
  },
  {
   "cell_type": "markdown",
   "metadata": {
    "id": "NVINCEKcLIne"
   },
   "source": [
    "If the interaction term is significant, the relationship may not be linear, and you might need a transformation or nonlinear model."
   ]
  },
  {
   "cell_type": "code",
   "execution_count": 44,
   "metadata": {
    "id": "aJ6v7AIULInf"
   },
   "outputs": [
    {
     "name": "stdout",
     "output_type": "stream",
     "text": [
      "                   Variable        VIF\n",
      "0                     const  34.515190\n",
      "1               Pregnancies   1.415510\n",
      "2                   Glucose   1.274664\n",
      "3             BloodPressure   1.155068\n",
      "4                   Insulin   1.222521\n",
      "5                       BMI   1.159650\n",
      "6  DiabetesPedigreeFunction   1.061786\n",
      "7                       Age   1.592632\n"
     ]
    }
   ],
   "source": [
    "# Checking Assumption: Multicollinearity\n",
    "\n",
    "from statsmodels.stats.outliers_influence import variance_inflation_factor\n",
    "\n",
    "# Calculate VIF for each variable in x_train_sm\n",
    "vif_data = pd.DataFrame()\n",
    "vif_data[\"Variable\"] = x_train_sm.columns\n",
    "vif_data[\"VIF\"] = [variance_inflation_factor(x_train_sm.values, i) for i in range(x_train_sm.shape[1])]\n",
    "\n",
    "# Print the VIF results\n",
    "print(vif_data)"
   ]
  },
  {
   "cell_type": "markdown",
   "metadata": {
    "id": "a2if7VsMLInf"
   },
   "source": [
    "Rule of Thumb: VIF > 10 indicates multicollinearity that may require attention."
   ]
  },
  {
   "cell_type": "code",
   "execution_count": 45,
   "metadata": {
    "id": "qh1TzqY1LInf"
   },
   "outputs": [
    {
     "name": "stdout",
     "output_type": "stream",
     "text": [
      "Outcome\n",
      "0    0.656069\n",
      "1    0.343931\n",
      "Name: proportion, dtype: float64\n"
     ]
    }
   ],
   "source": [
    "# Check class distribution\n",
    "print(dp['Outcome'].value_counts(normalize=True))"
   ]
  },
  {
   "cell_type": "markdown",
   "metadata": {
    "id": "PT99jPqILIng"
   },
   "source": [
    "If the classes are imbalanced, consider resampling techniques such as oversampling the minority class or using weighted models."
   ]
  }
 ],
 "metadata": {
  "colab": {
   "provenance": []
  },
  "kernelspec": {
   "display_name": "Python 3",
   "language": "python",
   "name": "python3"
  },
  "language_info": {
   "codemirror_mode": {
    "name": "ipython",
    "version": 3
   },
   "file_extension": ".py",
   "mimetype": "text/x-python",
   "name": "python",
   "nbconvert_exporter": "python",
   "pygments_lexer": "ipython3",
   "version": "3.12.3"
  }
 },
 "nbformat": 4,
 "nbformat_minor": 0
}
